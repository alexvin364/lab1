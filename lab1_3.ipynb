{
 "cells": [
  {
   "cell_type": "code",
   "execution_count": 2,
   "metadata": {
    "scrolled": false
   },
   "outputs": [
    {
     "name": "stdout",
     "output_type": "stream",
     "text": [
      "[4.91631717e-02 2.69168361e-02 5.47998310e-02 4.19491111e-04\n",
      " 2.03287603e-02 4.06471957e-02 4.23672105e-01 2.08975993e-01\n",
      " 1.69560579e-02 5.60087011e-02 1.02111858e-01]\n"
     ]
    }
   ],
   "source": [
    "import pandas as pd\n",
    "import matplotlib.pyplot as plt\n",
    "import numpy as np\n",
    "from sklearn.preprocessing import LabelEncoder\n",
    "from sklearn.ensemble import RandomForestClassifier\n",
    "\n",
    "table = pd.read_csv(\"table.csv\", sep = \";\")\n",
    "N = 10000\n",
    "K = 11000\n",
    "\n",
    "le = LabelEncoder()\n",
    "le.fit(table.X12)\n",
    "table[\"X12\"] = le.transform(table.X12)\n",
    "dct = {\"/PhizIC/private/payments/confirm.do\": 1, \"/PhizIC/private/async/payments/confirm.do\": 2, np.nan: -1}\n",
    "table[\"X26\"] = table[\"X26\"].map(dct)\n",
    "dct = {\"Windows\": 1, \"Android\": 2, \"an unknown OS\": 3, \"Linux\": 4, \"Mac\": 5, \"iPhone/iPod\":6, np.nan: -1}\n",
    "table[\"X11\"] = table[\"X11\"].map(dct)\n",
    "dct = {\"F\": 1, \"G\": 0, \"U\":0}\n",
    "table[\"CLASS1\"] = table[\"CLASS\"].map(dct)\n",
    "\n",
    "X = np.array([table[\"X9\"].values[0:N], table[\"X10\"].values[0:N], table[\"X11\"].values[0:N], table[\"X12\"].values[0:N],\n",
    "            table[\"X13\"].values[0:N], table[\"X14\"].values[0:N], table[\"X15\"].values[0:N], table[\"X17\"].values[0:N],\n",
    "            table[\"X18\"].values[0:N], table[\"X22\"].values[0:N], table[\"X26\"].values[0:N]])\n",
    "X = X.transpose()\n",
    "y = table[\"CLASS1\"][0:N].values\n",
    "\n",
    "P = np.array([table[\"X9\"].values[N:K], table[\"X10\"].values[N:K], table[\"X11\"].values[N:K], table[\"X12\"].values[N:K],\n",
    "            table[\"X13\"].values[N:K], table[\"X14\"].values[N:K], table[\"X15\"].values[N:K], table[\"X17\"].values[N:K],\n",
    "            table[\"X18\"].values[N:K], table[\"X22\"].values[N:K], table[\"X26\"].values[N:K]])\n",
    "P = P.transpose()\n",
    "\n",
    "#table[\"p0_Fraud\"] = table.apply(lambda row: predict(row), axis=1)\n",
    "#print(table[\"p0_Fraud\"].unique())\n",
    "\n",
    "\n",
    "clf = RandomForestClassifier(n_estimators=500, max_depth=5,\n",
    "                             random_state=0)\n",
    "clf.fit(X, y)  \n",
    "\n",
    "print(clf.feature_importances_)\n",
    "\n",
    "dct = {}\n",
    "table[\"p0_Fraud\"] = table[\"X26\"].map(dct)\n",
    "\n",
    "for i in range(N,K):\n",
    "    p0 = clf.predict([P[i-N].tolist()])[0]\n",
    "    table.loc[i, \"p0_Fraud\"] = p0\n",
    "#print(table[\"p0_Fraud\"][N:N+10])"
   ]
  },
  {
   "cell_type": "code",
   "execution_count": 3,
   "metadata": {},
   "outputs": [
    {
     "name": "stdout",
     "output_type": "stream",
     "text": [
      "p0_Fraud:\n",
      "fp: 0.002562225475841874\n",
      "fn: 0.02200392927308448\n",
      "recall: 2.83924529777376e-07\n",
      "precicion: 5.8496636443404506e-05\n"
     ]
    }
   ],
   "source": [
    "def falsepos(rule,percent):\n",
    "    c1=c2=0\n",
    "    for i in range(len(table[rule])):\n",
    "        if (table[\"CLASS\"][i]==\"G\"):\n",
    "            c1+=1\n",
    "            if (table[rule][i]>=percent):\n",
    "                c2+=1\n",
    "    print(\"fp: \"+str(c2/c1))\n",
    "\n",
    "def falseneg(rule,percent):\n",
    "    c1=c2=0\n",
    "    for i in range(len(table[rule])):\n",
    "        if (table[\"CLASS\"][i]!=\"G\"):\n",
    "            c1+=1\n",
    "            if (table[rule][i]<=percent):\n",
    "                c2+=1\n",
    "    print(\"fn: \"+str(c2/c1))\n",
    "\n",
    "def recall(rule,percent):\n",
    "    fsfr=fslr=lsfr=0\n",
    "    q=len(table[rule])\n",
    "    for i in range(q):\n",
    "        if (table[rule][i]>=percent):\n",
    "            if (table[\"CLASS\"][i]!=\"G\"):\n",
    "                fsfr+=1\n",
    "            else:\n",
    "                fslr+=1\n",
    "        else:\n",
    "            if (table[\"CLASS\"][i]!=\"G\"):\n",
    "                lsfr+=1\n",
    "    print(\"recall: \"+str(fsfr/(fsfr+q*lsfr)))\n",
    "    print(\"precicion: \"+str(fsfr/(fsfr+q*fslr)))\n",
    "\n",
    "for p in range(0,1):\n",
    "    rule=\"p\"+str(p)+\"_Fraud\"\n",
    "    print(rule+\":\")\n",
    "    falsepos(rule,0.5)\n",
    "    falseneg(rule,0.5)\n",
    "    recall(rule,0.5)\n",
    "    \n",
    "#fp<=0.2 if:\n",
    "#r1=0.69\n",
    "#r2=0.79\n",
    "#r3=0.54\n",
    "#r4=0.53\n",
    "#r5=0.99"
   ]
  },
  {
   "cell_type": "code",
   "execution_count": 4,
   "metadata": {},
   "outputs": [
    {
     "name": "stdout",
     "output_type": "stream",
     "text": [
      "0.007240476190476186\n",
      "0.10809047619047618\n",
      "0.41449761904761906\n",
      "0.10023809523809535\n"
     ]
    },
    {
     "data": {
      "image/png": "[encoded data removed]",
      "text/plain": [
       "<Figure size 432x288 with 1 Axes>"
      ]
     },
     "metadata": {
      "needs_background": "light"
     },
     "output_type": "display_data"
    }
   ],
   "source": [
    "from sklearn.metrics import roc_curve, auc\n",
    "import numpy as np\n",
    "\n",
    "y = np.array(table[\"CLASS\"][N:K])\n",
    "x1 = np.array(table[\"p1_Fraud\"][N:K])\n",
    "x2 = np.array(table[\"p2_Fraud\"][N:K])\n",
    "x3 = np.array(table[\"p3_Fraud\"][N:K])\n",
    "x0 = np.array(table[\"p0_Fraud\"][N:K])\n",
    "fpr, tpr, thresholds = roc_curve(y,x1,pos_label=\"F\")\n",
    "roc_auc = auc(fpr,tpr)\n",
    "print(roc_auc-0.5)\n",
    "plt.plot(fpr, tpr, 'b')\n",
    "fpr, tpr, thresholds = roc_curve(y,x2,pos_label=\"F\")\n",
    "roc_auc = auc(fpr,tpr)\n",
    "print(roc_auc-0.5)\n",
    "plt.plot(fpr, tpr, 'r')\n",
    "fpr, tpr, thresholds = roc_curve(y,x3,pos_label=\"F\")\n",
    "roc_auc = auc(fpr,tpr)\n",
    "print(roc_auc-0.5)\n",
    "plt.plot(fpr, tpr, 'g')\n",
    "fpr, tpr, thresholds = roc_curve(y,x0,pos_label=\"F\")\n",
    "roc_auc = auc(fpr,tpr)\n",
    "print(roc_auc-0.5)\n",
    "plt.plot(fpr, tpr, 'y')\n",
    "plt.plot([0,1], [0,1], \"k--\")\n",
    "plt.xlim([0.0, 1.0])\n",
    "plt.ylim([0.0, 1.0])\n",
    "plt.grid()\n",
    "plt.show()"
   ]
  },
  {
   "cell_type": "code",
   "execution_count": null,
   "metadata": {},
   "outputs": [],
   "source": []
  }
 ],
 "metadata": {
  "kernelspec": {
   "display_name": "Python 3",
   "language": "python",
   "name": "python3"
  },
  "language_info": {
   "codemirror_mode": {
    "name": "ipython",
    "version": 3
   },
   "file_extension": ".py",
   "mimetype": "text/x-python",
   "name": "python",
   "nbconvert_exporter": "python",
   "pygments_lexer": "ipython3",
   "version": "3.7.3"
  }
 },
 "nbformat": 4,
 "nbformat_minor": 2
}

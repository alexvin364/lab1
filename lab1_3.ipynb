{
  "nbformat": 4,
  "nbformat_minor": 0,
  "metadata": {
    "kernelspec": {
      "display_name": "Python 3",
      "language": "python",
      "name": "python3"
    },
    "language_info": {
      "codemirror_mode": {
        "name": "ipython",
        "version": 3
      },
      "file_extension": ".py",
      "mimetype": "text/x-python",
      "name": "python",
      "nbconvert_exporter": "python",
      "pygments_lexer": "ipython3",
      "version": "3.7.3"
    },
    "colab": {
      "name": "lab1_3.ipynb",
      "provenance": []
    }
  },
  "cells": [
    {
      "cell_type": "code",
      "metadata": {
        "scrolled": false,
        "id": "I-PQ2FAs_2i-",
        "colab_type": "code",
        "colab": {
          "base_uri": "https://localhost:8080/",
          "height": 68
        },
        "outputId": "d08eaf41-718d-4099-992c-252d98fba420"
      },
      "source": [
        "import pandas as pd\n",
        "import matplotlib.pyplot as plt\n",
        "import numpy as np\n",
        "from sklearn.preprocessing import LabelEncoder\n",
        "from sklearn.ensemble import RandomForestClassifier\n",
        "\n",
        "table = pd.read_csv(\"table.csv\", sep = \";\")\n",
        "N = 28000\n",
        "K = len(table[\"X9\"])\n",
        "\n",
        "le = LabelEncoder()\n",
        "table[\"X22\"].replace(np.nan, 0.0, inplace=True)\n",
        "table[\"AMOUNT\"].replace(np.nan, 0.0, inplace=True)\n",
        "table.replace(np.nan, \"nul\", inplace=True)\n",
        "le.fit(table.EVENT_TYPE_EX)\n",
        "table[\"EVENT_TYPE_EX\"] = le.transform(table.EVENT_TYPE_EX)\n",
        "le.fit(table.X11)\n",
        "table[\"X11\"] = le.transform(table.X11)\n",
        "le.fit(table.X12)\n",
        "table[\"X12\"] = le.transform(table.X12)\n",
        "le.fit(table.X16)\n",
        "table[\"X16\"] = le.transform(table.X16)\n",
        "le.fit(table.X24)\n",
        "table[\"X24\"] = le.transform(table.X24)\n",
        "le.fit(table.X26)\n",
        "table[\"X26\"] = le.transform(table.X26)\n",
        "dct = {\"F\": 1, \"G\": 0, \"U\":0}\n",
        "table[\"CLASS1\"] = table[\"CLASS\"].map(dct)\n",
        "\n",
        "X = np.array([table[\"EVENT_TYPE_EX\"].values[0:N], table[\"AMOUNT\"].values[0:N], table[\"X9\"].values[0:N], \n",
        "              table[\"X10\"].values[0:N], table[\"X11\"].values[0:N], table[\"X12\"].values[0:N], \n",
        "              table[\"X13\"].values[0:N], table[\"X14\"].values[0:N], table[\"X15\"].values[0:N], \n",
        "              table[\"X16\"].values[0:N], table[\"X17\"].values[0:N], table[\"X18\"].values[0:N], \n",
        "              table[\"X22\"].values[0:N], table[\"X24\"].values[0:N], table[\"X26\"].values[0:N]])\n",
        "X = X.transpose()\n",
        "y = table[\"CLASS1\"][0:N].values\n",
        "\n",
        "P = np.array([table[\"EVENT_TYPE_EX\"].values[N:K], table[\"AMOUNT\"].values[N:K], table[\"X9\"].values[N:K], \n",
        "              table[\"X10\"].values[N:K], table[\"X11\"].values[N:K], table[\"X12\"].values[N:K], \n",
        "              table[\"X13\"].values[N:K], table[\"X14\"].values[N:K], table[\"X15\"].values[N:K], \n",
        "              table[\"X16\"].values[N:K], table[\"X17\"].values[N:K], table[\"X18\"].values[N:K], \n",
        "              table[\"X22\"].values[N:K], table[\"X24\"].values[N:K], table[\"X26\"].values[N:K]])\n",
        "P = P.transpose()\n",
        "\n",
        "#table[\"p0_Fraud\"] = table.apply(lambda row: predict(row), axis=1)\n",
        "#print(table[\"p0_Fraud\"].unique())\n",
        "\n",
        "\n",
        "clf = RandomForestClassifier(n_estimators=1000, max_depth=10,\n",
        "                             random_state=0)\n",
        "clf.fit(X, y)  \n",
        "\n",
        "print(clf.feature_importances_)\n",
        "\n",
        "dct = {}\n",
        "table[\"p0_Fraud\"] = table[\"X26\"].map(dct)\n",
        "\n",
        "for i in range(N,K):\n",
        "    p0 = clf.predict([P[i-N].tolist()])[0]\n",
        "    table.loc[i, \"p0_Fraud\"] = p0\n",
        "#print(table[\"p0_Fraud\"][N:N+10])"
      ],
      "execution_count": 21,
      "outputs": [
        {
          "output_type": "stream",
          "text": [
            "[0.07484371 0.16488206 0.03210858 0.02203922 0.06361484 0.00105568\n",
            " 0.02105487 0.02995554 0.25724688 0.0624994  0.12328523 0.02003473\n",
            " 0.04465768 0.03690285 0.04581873]\n"
          ],
          "name": "stdout"
        }
      ]
    },
    {
      "cell_type": "code",
      "metadata": {
        "id": "u8euU78o_2jl",
        "colab_type": "code",
        "colab": {
          "base_uri": "https://localhost:8080/",
          "height": 102
        },
        "outputId": "a8ccb08d-9baa-4d1f-efca-d5b5b73d3e85"
      },
      "source": [
        "def falsepos(rule,percent):\n",
        "    c1=c2=0\n",
        "    for i in range(len(table[rule])):\n",
        "        if (table[\"CLASS\"][i]==\"G\"):\n",
        "            c1+=1\n",
        "            if (table[rule][i]>=percent):\n",
        "                c2+=1\n",
        "    print(\"fp: \"+str(c2/c1))\n",
        "\n",
        "def falseneg(rule,percent):\n",
        "    c1=c2=0\n",
        "    for i in range(len(table[rule])):\n",
        "        if (table[\"CLASS\"][i]!=\"G\"):\n",
        "            c1+=1\n",
        "            if (table[rule][i]<=percent):\n",
        "                c2+=1\n",
        "    print(\"fn: \"+str(c2/c1))\n",
        "\n",
        "def recall(rule,percent):\n",
        "    fsfr=fslr=lsfr=0\n",
        "    q=len(table[rule])\n",
        "    for i in range(q):\n",
        "        if (table[rule][i]>=percent):\n",
        "            if (table[\"CLASS\"][i]!=\"G\"):\n",
        "                fsfr+=1\n",
        "            else:\n",
        "                fslr+=1\n",
        "        else:\n",
        "            if (table[\"CLASS\"][i]!=\"G\"):\n",
        "                lsfr+=1\n",
        "    print(\"recall: \"+str(fsfr/(fsfr+q*lsfr)))\n",
        "    print(\"precicion: \"+str(fsfr/(fsfr+q*fslr)))\n",
        "\n",
        "rule=\"p0_Fraud\"\n",
        "print(rule+\":\")\n",
        "falsepos(rule,0.5)\n",
        "falseneg(rule,0.5)\n",
        "recall(rule,0.5)\n",
        "    "
      ],
      "execution_count": 22,
      "outputs": [
        {
          "output_type": "stream",
          "text": [
            "p0_Fraud:\n",
            "fp: 0.00397406400334658\n",
            "fn: 0.017976424361493125\n",
            "recall: 8.133990253605769e-07\n",
            "precicion: 0.00010640490162934189\n"
          ],
          "name": "stdout"
        }
      ]
    },
    {
      "cell_type": "code",
      "metadata": {
        "id": "ISCpVFZa_2jx",
        "colab_type": "code",
        "colab": {
          "base_uri": "https://localhost:8080/",
          "height": 337
        },
        "outputId": "f2703163-0313-4e32-d8b0-37a44534f560"
      },
      "source": [
        "from sklearn.metrics import roc_curve, auc\n",
        "import numpy as np\n",
        "\n",
        "y = np.array(table[\"CLASS\"][N:K])\n",
        "x1 = np.array(table[\"p1_Fraud\"][N:K])\n",
        "x2 = np.array(table[\"p2_Fraud\"][N:K])\n",
        "x3 = np.array(table[\"p3_Fraud\"][N:K])\n",
        "x0 = np.array(table[\"p0_Fraud\"][N:K])\n",
        "fpr, tpr, thresholds = roc_curve(y,x1,pos_label=\"F\")\n",
        "roc_auc = auc(fpr,tpr)\n",
        "print(roc_auc-0.5)\n",
        "plt.plot(fpr, tpr, 'b')\n",
        "fpr, tpr, thresholds = roc_curve(y,x2,pos_label=\"F\")\n",
        "roc_auc = auc(fpr,tpr)\n",
        "print(roc_auc-0.5)\n",
        "plt.plot(fpr, tpr, 'r')\n",
        "fpr, tpr, thresholds = roc_curve(y,x3,pos_label=\"F\")\n",
        "roc_auc = auc(fpr,tpr)\n",
        "print(roc_auc-0.5)\n",
        "plt.plot(fpr, tpr, 'g')\n",
        "fpr, tpr, thresholds = roc_curve(y,x0,pos_label=\"F\")\n",
        "roc_auc = auc(fpr,tpr)\n",
        "print(roc_auc-0.5)\n",
        "plt.plot(fpr, tpr, 'y')\n",
        "plt.plot([0,1], [0,1], \"k--\")\n",
        "plt.xlim([0.0, 1.0])\n",
        "plt.ylim([0.0, 1.0])\n",
        "plt.grid()\n",
        "plt.show()"
      ],
      "execution_count": 23,
      "outputs": [
        {
          "output_type": "stream",
          "text": [
            "0.008384486645356182\n",
            "0.1002029697681871\n",
            "0.3788344440518354\n",
            "0.24521952782822354\n"
          ],
          "name": "stdout"
        },
        {
          "output_type": "display_data",
          "data": {
            "image/png": "[encoded data removed]",
            "text/plain": [
              "<Figure size 432x288 with 1 Axes>"
            ]
          },
          "metadata": {
            "tags": []
          }
        }
      ]
    },
    {
      "cell_type": "code",
      "metadata": {
        "id": "FtJpP41O_2j8",
        "colab_type": "code",
        "colab": {}
      },
      "source": [
        ""
      ],
      "execution_count": 0,
      "outputs": []
    }
  ]
}
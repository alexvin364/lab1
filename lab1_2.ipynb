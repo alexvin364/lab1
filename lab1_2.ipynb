{
  "nbformat": 4,
  "nbformat_minor": 0,
  "metadata": {
    "kernelspec": {
      "display_name": "Python 3",
      "language": "python",
      "name": "python3"
    },
    "language_info": {
      "codemirror_mode": {
        "name": "ipython",
        "version": 3
      },
      "file_extension": ".py",
      "mimetype": "text/x-python",
      "name": "python",
      "nbconvert_exporter": "python",
      "pygments_lexer": "ipython3",
      "version": "3.7.3"
    },
    "colab": {
      "name": "lab1_2.ipynb",
      "provenance": []
    }
  },
  "cells": [
    {
      "cell_type": "code",
      "metadata": {
        "id": "gFOq-eG7_1bQ",
        "colab_type": "code",
        "colab": {
          "base_uri": "https://localhost:8080/",
          "height": 34
        },
        "outputId": "d8a80643-13d8-4932-ba8d-355e6d47b8df"
      },
      "source": [
        "import pandas as pd\n",
        "import matplotlib.pyplot as plt\n",
        "import numpy as np\n",
        "from sklearn.preprocessing import LabelEncoder\n",
        "\n",
        "def predict(row):\n",
        "    res = 1\n",
        "    if 400<abs(row[\"X9\"])<500 and row[\"X15\"]==0:\n",
        "        res *= 0.3\n",
        "    if 400<abs(row[\"X9\"])<500 and row[\"X18\"]==898:\n",
        "        res *= 0.3\n",
        "    if row[\"X9\"]>0 and row[\"X18\"]<0:\n",
        "        res *= 0.3\n",
        "    if 1100<row[\"X17\"]<1500 and row[\"X26\"]==1:\n",
        "        res *= 0.3\n",
        "    if row[\"X9\"]>0 and row[\"X12\"]>0:\n",
        "        res *= 0.3\n",
        "    if row[\"X17\"]>1500 and row[\"X16\"]>60:\n",
        "        res *= 0.3\n",
        "    if row[\"X12\"]>2 and row[\"X26\"]<1:\n",
        "        res *= 0.3\n",
        "    if 0<row[\"X14\"]<500 and row[\"X15\"]==0:\n",
        "        res *= 0.3\n",
        "    if 0<row[\"X22\"]:\n",
        "        res *= 0.3\n",
        "    return 1-res\n",
        "\n",
        "\n",
        "table = pd.read_csv(\"table.csv\", sep = \";\")\n",
        "le = LabelEncoder()\n",
        "table[\"X22\"].replace(np.nan, 0.0, inplace=True)\n",
        "table.replace(np.nan, \"nul\", inplace=True)\n",
        "le.fit(table.EVENT_TYPE_EX)\n",
        "table[\"EVENT_TYPE_EX\"] = le.transform(table.EVENT_TYPE_EX)\n",
        "le.fit(table.X11)\n",
        "table[\"X11\"] = le.transform(table.X11)\n",
        "le.fit(table.X12)\n",
        "table[\"X12\"] = le.transform(table.X12)\n",
        "le.fit(table.X16)\n",
        "table[\"X16\"] = le.transform(table.X16)\n",
        "le.fit(table.X24)\n",
        "table[\"X24\"] = le.transform(table.X24)\n",
        "le.fit(table.X26)\n",
        "table[\"X26\"] = le.transform(table.X26)\n",
        "\n",
        "table[\"p0_Fraud\"] = table.apply(lambda row: predict(row), axis=1)\n",
        "print(table[\"p0_Fraud\"].unique())"
      ],
      "execution_count": 14,
      "outputs": [
        {
          "output_type": "stream",
          "text": [
            "[0.7    0.91   0.     0.973  0.9919]\n"
          ],
          "name": "stdout"
        }
      ]
    },
    {
      "cell_type": "code",
      "metadata": {
        "id": "4BjqgOlZ_1bo",
        "colab_type": "code",
        "colab": {
          "base_uri": "https://localhost:8080/",
          "height": 102
        },
        "outputId": "458e11a5-1ce9-4750-b216-8780debc08fd"
      },
      "source": [
        "def falsepos(rule,percent):\n",
        "    c1=c2=0\n",
        "    for i in range(len(table[rule])):\n",
        "        if (table[\"CLASS\"][i]==\"G\"):\n",
        "            c1+=1\n",
        "            if (table[rule][i]>=percent):\n",
        "                c2+=1\n",
        "    print(\"fp: \"+str(c2/c1))\n",
        "\n",
        "def falseneg(rule,percent):\n",
        "    c1=c2=0\n",
        "    for i in range(len(table[rule])):\n",
        "        if (table[\"CLASS\"][i]!=\"G\"):\n",
        "            c1+=1\n",
        "            if (table[rule][i]<=percent):\n",
        "                c2+=1\n",
        "    print(\"fn: \"+str(c2/c1))\n",
        "\n",
        "def recall(rule,percent):\n",
        "    fsfr=fslr=lsfr=0\n",
        "    q=len(table[rule])\n",
        "    for i in range(q):\n",
        "        if (table[rule][i]>=percent):\n",
        "            if (table[\"CLASS\"][i]!=\"G\"):\n",
        "                fsfr+=1\n",
        "            else:\n",
        "                fslr+=1\n",
        "        else:\n",
        "            if (table[\"CLASS\"][i]!=\"G\"):\n",
        "                lsfr+=1\n",
        "    print(\"recall: \"+str(fsfr/(fsfr+q*lsfr)))\n",
        "    print(\"precicion: \"+str(fsfr/(fsfr+q*fslr)))\n",
        "\n",
        "for p in range(0,1):\n",
        "    rule=\"p\"+str(p)+\"_Fraud\"\n",
        "    print(rule+\":\")\n",
        "    falsepos(rule,0.5)\n",
        "    falseneg(rule,0.5)\n",
        "    recall(rule,0.5)\n",
        "    \n",
        "#fp<=0.2 if:\n",
        "#r1=0.69\n",
        "#r2=0.79\n",
        "#r3=0.54\n",
        "#r4=0.53\n",
        "#r5=0.99"
      ],
      "execution_count": 15,
      "outputs": [
        {
          "output_type": "stream",
          "text": [
            "p0_Fraud:\n",
            "fp: 0.9884438402007948\n",
            "fn: 0.024950884086444008\n",
            "recall: 0.0013317873186905603\n",
            "precicion: 1.791879697291405e-05\n"
          ],
          "name": "stdout"
        }
      ]
    },
    {
      "cell_type": "code",
      "metadata": {
        "id": "iZLh3Fl1_1by",
        "colab_type": "code",
        "colab": {
          "base_uri": "https://localhost:8080/",
          "height": 337
        },
        "outputId": "4bca9772-7ad5-4765-fd83-8558625be348"
      },
      "source": [
        "from sklearn.metrics import roc_curve, auc\n",
        "import numpy as np\n",
        "\n",
        "y = np.array(table[\"CLASS\"])\n",
        "x1 = np.array(table[\"p1_Fraud\"])\n",
        "x2 = np.array(table[\"p2_Fraud\"])\n",
        "x3 = np.array(table[\"p3_Fraud\"])\n",
        "x0 = np.array(table[\"p0_Fraud\"])\n",
        "fpr, tpr, thresholds = roc_curve(y,x1,pos_label=\"F\")\n",
        "roc_auc = auc(fpr,tpr)\n",
        "print(roc_auc-0.5)\n",
        "plt.plot(fpr, tpr, 'b')\n",
        "fpr, tpr, thresholds = roc_curve(y,x2,pos_label=\"F\")\n",
        "roc_auc = auc(fpr,tpr)\n",
        "print(roc_auc-0.5)\n",
        "plt.plot(fpr, tpr, 'r')\n",
        "fpr, tpr, thresholds = roc_curve(y,x3,pos_label=\"F\")\n",
        "roc_auc = auc(fpr,tpr)\n",
        "print(roc_auc-0.5)\n",
        "plt.plot(fpr, tpr, 'g')\n",
        "fpr, tpr, thresholds = roc_curve(y,x0,pos_label=\"F\")\n",
        "roc_auc = auc(fpr,tpr)\n",
        "print(roc_auc-0.5)\n",
        "plt.plot(fpr, tpr, 'y')\n",
        "plt.plot([0,1], [0,1], \"k--\")\n",
        "plt.xlim([0.0, 1.0])\n",
        "plt.ylim([0.0, 1.0])\n",
        "plt.grid()\n",
        "plt.show()"
      ],
      "execution_count": 16,
      "outputs": [
        {
          "output_type": "stream",
          "text": [
            "0.0751435858382572\n",
            "0.18019930148268126\n",
            "0.39273492278822086\n",
            "0.04634057329536834\n"
          ],
          "name": "stdout"
        },
        {
          "output_type": "display_data",
          "data": {
            "image/png": "[encoded data removed]",
            "text/plain": [
              "<Figure size 432x288 with 1 Axes>"
            ]
          },
          "metadata": {
            "tags": []
          }
        }
      ]
    },
    {
      "cell_type": "code",
      "metadata": {
        "id": "MmsFDAFc_1b7",
        "colab_type": "code",
        "colab": {}
      },
      "source": [
        ""
      ],
      "execution_count": 0,
      "outputs": []
    }
  ]
}